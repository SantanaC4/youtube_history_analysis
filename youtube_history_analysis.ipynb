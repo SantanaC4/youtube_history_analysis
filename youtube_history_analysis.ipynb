{
  "cells": [
    {
      "cell_type": "markdown",
      "metadata": {
        "id": "view-in-github",
        "colab_type": "text"
      },
      "source": [
        "<a href=\"https://colab.research.google.com/github/SantanaC4/youtube_history_analysis/blob/main/youtube_history_analysis.ipynb\" target=\"_parent\"><img src=\"https://colab.research.google.com/assets/colab-badge.svg\" alt=\"Open In Colab\"/></a>"
      ]
    },
    {
      "cell_type": "markdown",
      "metadata": {
        "id": "bK6fA_mLXboL"
      },
      "source": [
        "## Funções"
      ]
    },
    {
      "cell_type": "code",
      "execution_count": 19,
      "metadata": {
        "colab": {
          "base_uri": "https://localhost:8080/"
        },
        "id": "kybNH1uWW-gL",
        "outputId": "d878547d-a485-4205-ee7a-e6cef98a7e07"
      },
      "outputs": [
        {
          "output_type": "stream",
          "name": "stdout",
          "text": [
            "Requirement already satisfied: pafy in /usr/local/lib/python3.7/dist-packages (0.5.5)\n",
            "Requirement already satisfied: youtube-dl in /usr/local/lib/python3.7/dist-packages (2021.6.6)\n"
          ]
        }
      ],
      "source": [
        "import pandas as pd\n",
        "import numpy as np\n",
        "import matplotlib.pyplot as plt\n",
        "!pip install pafy\n",
        "!pip install youtube-dl\n",
        "import pafy\n",
        "from bs4 import BeautifulSoup"
      ]
    },
    {
      "cell_type": "markdown",
      "metadata": {
        "id": "e8rqPNM1OGOE"
      },
      "source": [
        "## Captura de dados"
      ]
    },
    {
      "cell_type": "code",
      "execution_count": 20,
      "metadata": {
        "colab": {
          "base_uri": "https://localhost:8080/"
        },
        "id": "jpS43hJRJyj5",
        "outputId": "241294f0-7f29-44f4-a57a-d3791612a498"
      },
      "outputs": [
        {
          "output_type": "stream",
          "name": "stdout",
          "text": [
            "Downloading...\n",
            "From: https://drive.google.com/uc?id=1OhhW8YOBLouiwsI8ae92Ov2oyGeuP23R\n",
            "To: /content/new\n",
            "\r  0% 0.00/2.42M [00:00<?, ?B/s]\r100% 2.42M/2.42M [00:00<00:00, 74.8MB/s]\n",
            "Archive:  new\n",
            "replace Takeout/YouTube and YouTube Music/history/search-history.html? [y]es, [n]o, [A]ll, [N]one, [r]ename: A\n",
            "  inflating: Takeout/YouTube and YouTube Music/history/search-history.html  \n",
            "  inflating: Takeout/YouTube and YouTube Music/history/watch-history.html  \n",
            "  inflating: Takeout/archive_browser.html  \n"
          ]
        }
      ],
      "source": [
        "## Insira o id do seu arquivo.zip armazenado no drive, \n",
        "## ex. !gdown --id 1OhhW8YOBLouiwsI8ae92Ov2oyGeuP23R\n",
        "!gdown --output new --id 1OhhW8YOBLouiwsI8ae92Ov2oyGeuP23R\n",
        "!unzip new"
      ]
    },
    {
      "cell_type": "code",
      "execution_count": null,
      "metadata": {
        "id": "0CzVnqfjPECy"
      },
      "outputs": [],
      "source": [
        "url = (\"Takeout/YouTube and YouTube Music/history/watch-history.html\")\n",
        "page = open(url)\n",
        "soup = BeautifulSoup(page.read())"
      ]
    },
    {
      "cell_type": "markdown",
      "metadata": {
        "id": "q05cUxRfZed-"
      },
      "source": [
        "## Filtragem de dados relevantes"
      ]
    },
    {
      "cell_type": "code",
      "execution_count": null,
      "metadata": {
        "id": "jp2EgBUMabxZ"
      },
      "outputs": [],
      "source": [
        "my_hist_dict = {\n",
        "    \"Platform\" : [],\n",
        "    \"Status\" : [],\n",
        "    \"watched_date_time\" : [],\n",
        "    \"Video Name\" : [],\n",
        "    \"Video Link\" : [],\n",
        "    \"Channel Name\" : [],\n",
        "    \"Channel Link\" : [],\n",
        "    \"Rating\" : [],\n",
        "    \"Duration\" : [],\n",
        "    \"Length\" : [],\n",
        "    \"Thumbnail\" : [],\n",
        "    \"Likes\" : [],\n",
        "    \"Views\" : []\n",
        "}\n",
        "\n",
        "content_cell = soup.select('div.content-cell.mdl-typography--body-1')[::2]\n",
        "header_cell = soup.select('p.mdl-typography--title')\n",
        "\n",
        "for i in range(0,len(content_cell)):\n",
        "  my_hist_dict[\"Platform\"].append(header_cell[i].text.strip())\n",
        "  my_hist_dict[\"Video Link\"].append()\n"
      ]
    },
    {
      "cell_type": "code",
      "execution_count": null,
      "metadata": {
        "id": "UAW4gQj9Pdwt"
      },
      "outputs": [],
      "source": [
        "print(len(content_cell))\n",
        "print(len(header_cell))\n",
        "#for i in content_cell:\n",
        "\n",
        "content_cell[0].find('a').getText()"
      ]
    }
  ],
  "metadata": {
    "colab": {
      "name": "youtube_history_analysis.ipynb",
      "provenance": [],
      "collapsed_sections": [],
      "authorship_tag": "ABX9TyN4MnKzzHhqVEYNsfpTqMnj",
      "include_colab_link": true
    },
    "kernelspec": {
      "display_name": "Python 3",
      "name": "python3"
    },
    "language_info": {
      "name": "python"
    }
  },
  "nbformat": 4,
  "nbformat_minor": 0
}